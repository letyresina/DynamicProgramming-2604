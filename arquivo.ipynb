{
 "cells": [
  {
   "cell_type": "code",
   "execution_count": 4,
   "metadata": {},
   "outputs": [
    {
     "data": {
      "text/plain": [
       "{'a': 1, 'b': 2, 'c': 3}"
      ]
     },
     "execution_count": 4,
     "metadata": {},
     "output_type": "execute_result"
    }
   ],
   "source": [
    "dicionario = {'a': 1, 'b': 2, 'c':3}\n",
    "\n",
    "dicionario"
   ]
  },
  {
   "cell_type": "code",
   "execution_count": 5,
   "metadata": {},
   "outputs": [
    {
     "data": {
      "text/plain": [
       "1"
      ]
     },
     "execution_count": 5,
     "metadata": {},
     "output_type": "execute_result"
    }
   ],
   "source": [
    "# exemplo 1\n",
    "valor = dicionario.get('a') # traz tudo que está relacionado na coluna a\n",
    "valor"
   ]
  },
  {
   "cell_type": "code",
   "execution_count": 10,
   "metadata": {},
   "outputs": [
    {
     "name": "stdout",
     "output_type": "stream",
     "text": [
      "Contagem de elementos\n",
      "a: 4\n",
      "b: 1\n",
      "c: 1\n",
      "d: 1\n",
      "e: 1\n",
      "f: 1\n",
      "g: 2\n"
     ]
    }
   ],
   "source": [
    "# exemplo 2\n",
    "\n",
    "lista = ['a', 'a', 'b', 'c', 'd', 'e', 'f', 'g', 'g', 'a', 'a']\n",
    "contagem = {}\n",
    "\n",
    "for i in lista:\n",
    "    # na lista criada, com vários elementos, ele vai passando por cada posição e pegando os items e contando quantos e associando a um valor\n",
    "    contagem[i] = contagem.get(i, 0) + 1 \n",
    "\n",
    "print(\"Contagem de elementos\")\n",
    "for chave, valor in contagem.items():\n",
    "    print(f'{chave}: {valor}')"
   ]
  },
  {
   "cell_type": "code",
   "execution_count": 33,
   "metadata": {},
   "outputs": [
    {
     "name": "stdout",
     "output_type": "stream",
     "text": [
      "Contagem de elementos\n",
      "no failure: 4\n",
      "overstrain failure: 4\n",
      "power failure: 3\n",
      "overstrain failurepower failure: 1\n",
      "n: 9\n",
      "o: 13\n",
      " : 13\n",
      "f: 13\n",
      "a: 18\n",
      "i: 18\n",
      "l: 13\n",
      "u: 13\n",
      "r: 27\n",
      "e: 22\n",
      "v: 5\n",
      "s: 5\n",
      "t: 5\n",
      "p: 4\n",
      "w: 4\n",
      "None\n"
     ]
    }
   ],
   "source": [
    "# 1 - Crie um programa para contagem de palavras numa lista\n",
    "falhas = ['no failure', 'overstrain failure', 'overstrain failure', 'power failure', \n",
    "         'overstrain failure', 'no failure', 'power failure', 'no failure', 'overstrain failure'\n",
    "         'power failure', 'overstrain failure', 'no failure', 'power failure']\n",
    "\n",
    "# contagem de termos\n",
    "contagemFalhasTermos = {}\n",
    "for i in falhas:\n",
    "    # na lista criada, com vários elementos, ele vai passando por cada posição e pegando os items e contando quantos e associando a um valor\n",
    "    contagemFalhasTermos[i] = contagemFalhasTermos.get(i, 0) + 1\n",
    "\n",
    "print(\"Contagem de elementos\")\n",
    "for chave, valor in contagemFalhasTermos.items():\n",
    "    print(f'{chave}: {valor}')\n",
    "\n",
    "# contagem de palavras\n",
    "\n",
    "def ContarPalavras(lista):\n",
    "    contagem = {}\n",
    "    for palavra in lista:\n",
    "        palavra.split(\" \")\n",
    "        for elemento in palavra:\n",
    "            contagem[elemento] = contagem.get(elemento, 0) + 1\n",
    "    for chave, valor in contagem.items():\n",
    "        print(f'{chave}: {valor}')\n",
    "\n",
    "print(ContarPalavras(falhas))\n"
   ]
  },
  {
   "cell_type": "code",
   "execution_count": 38,
   "metadata": {},
   "outputs": [
    {
     "name": "stdout",
     "output_type": "stream",
     "text": [
      "camiseta\n",
      "Produto não encontrado.\n"
     ]
    }
   ],
   "source": [
    "# 2- Crie um programa para a busca de produtos utilizando a função def e get\n",
    "produtos = {\n",
    "    '001': 'camiseta',\n",
    "    '002': 'calça',\n",
    "    '003': 'media'\n",
    "}\n",
    "\n",
    "def buscaProduto(codigo, dicionario):\n",
    "    return dicionario.get(codigo, 'Produto não encontrado.')\n",
    "\n",
    "print(buscaProduto('001', produtos))\n",
    "print(buscaProduto('004', produtos))"
   ]
  },
  {
   "cell_type": "code",
   "execution_count": 40,
   "metadata": {},
   "outputs": [
    {
     "name": "stdout",
     "output_type": "stream",
     "text": [
      "{'João': 8.0, 'Maria': 7.0, 'Pedro': 7.0}\n"
     ]
    }
   ],
   "source": [
    "# 3- Crie uma função para calcular as médias dos alunos (use def e items)\n",
    "\n",
    "notasAlunos ={\n",
    "    'João': [8, 7, 9],\n",
    "    'Maria': [6, 8, 7],\n",
    "    'Pedro': [8, 6, 7]\n",
    "}\n",
    "\n",
    "def mediaAlunos(lista):\n",
    "    medias = {}\n",
    "    for aluno, notas in lista.items():\n",
    "        media = sum(notas) / len(notas)\n",
    "        medias[aluno] = media\n",
    "    return medias\n",
    "\n",
    "print(mediaAlunos(notasAlunos))\n"
   ]
  },
  {
   "cell_type": "code",
   "execution_count": 42,
   "metadata": {},
   "outputs": [
    {
     "name": "stdout",
     "output_type": "stream",
     "text": [
      "{'a': 1, 'b': 2, 'c': 3, 'd': 4}\n"
     ]
    }
   ],
   "source": [
    "# 4 - Crie um programa para juntar dicionário usando def, get e items\n",
    "\n",
    "dic1 = {'a': 1, 'b': 2}\n",
    "dic2 = {'c': 3, 'd': 4}\n",
    "\n",
    "def juntarDicionario(dicionario1, dicionario2):\n",
    "    juncao = dicionario1.copy()\n",
    "    for chave, valor in dicionario2.items():\n",
    "        juncao[chave] = juncao.get(chave, 0) + valor\n",
    "    return juncao\n",
    "\n",
    "print(juntarDicionario(dic1, dic2))"
   ]
  },
  {
   "cell_type": "code",
   "execution_count": null,
   "metadata": {},
   "outputs": [],
   "source": [
    "# 5 - Crie um programa para controle de estoque -> adicionar item, atualizar quantidade e verificar disponibilidade\n",
    "\n"
   ]
  },
  {
   "cell_type": "code",
   "execution_count": null,
   "metadata": {},
   "outputs": [],
   "source": [
    "# 6 - Crie um programa para monitoramento da produçao criando 3 funções: adicionar produção, calcular media diarioa, verificar  producao se ta abaixo ou nao do esperado\n",
    "\n"
   ]
  }
 ],
 "metadata": {
  "kernelspec": {
   "display_name": "Python 3",
   "language": "python",
   "name": "python3"
  },
  "language_info": {
   "codemirror_mode": {
    "name": "ipython",
    "version": 3
   },
   "file_extension": ".py",
   "mimetype": "text/x-python",
   "name": "python",
   "nbconvert_exporter": "python",
   "pygments_lexer": "ipython3",
   "version": "3.11.4"
  },
  "orig_nbformat": 4
 },
 "nbformat": 4,
 "nbformat_minor": 2
}
